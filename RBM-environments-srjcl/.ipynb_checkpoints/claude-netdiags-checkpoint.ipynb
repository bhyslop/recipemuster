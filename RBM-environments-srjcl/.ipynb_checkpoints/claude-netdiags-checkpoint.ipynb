{
 "cells": [
  {
   "cell_type": "code",
   "execution_count": 1,
   "id": "b61865a0-5502-41d3-9f18-a98d7bceb620",
   "metadata": {},
   "outputs": [],
   "source": [
    "%load_ext autoreload\n",
    "%autoreload 2"
   ]
  },
  {
   "cell_type": "code",
   "execution_count": 2,
   "id": "1d00b875-fe20-40f4-abf8-dd468cbd0284",
   "metadata": {},
   "outputs": [],
   "source": [
    "import netdiag"
   ]
  },
  {
   "cell_type": "code",
   "execution_count": 3,
   "id": "8f17884d-8097-4a30-8cd6-676477447efd",
   "metadata": {},
   "outputs": [
    {
     "name": "stdout",
     "output_type": "stream",
     "text": [
      "Running network diagnostics...\n",
      "\n",
      "DNS resolution successful. api.anthropic.com resolves to 160.79.104.10\n",
      "\n",
      "Python Ping:\n",
      "Error: [Errno 14] Bad address\n",
      "Error: [Errno 14] Bad address\n",
      "Error: [Errno 14] Bad address\n",
      "Error: [Errno 14] Bad address\n",
      "HTTP connection successful. Status code: 404\n",
      "Failed to retrieve network interface information: name 'json' is not defined\n",
      "Environment variables:\n",
      "ANTHROPIC_API_KEY: sk-an...ETQAA\n",
      "HTTP_PROXY: Not set\n",
      "HTTPS_PROXY: Not set\n",
      "NO_PROXY: Not set\n",
      "\n"
     ]
    }
   ],
   "source": [
    "netdiag.run_diagnostics()\n"
   ]
  },
  {
   "cell_type": "code",
   "execution_count": 4,
   "id": "8b1cfd9d-605a-4d20-adfc-dec80379194f",
   "metadata": {},
   "outputs": [
    {
     "name": "stdout",
     "output_type": "stream",
     "text": [
      "200\n",
      "{'id': 'msg_01EEVgG3offhAkukeGYChwUa', 'type': 'message', 'role': 'assistant', 'model': 'claude-3-5-sonnet-20240620', 'content': [{'type': 'text', 'text': \"Hello! It's nice to meet you. How can I assist you today?\"}], 'stop_reason': 'end_turn', 'stop_sequence': None, 'usage': {'input_tokens': 10, 'output_tokens': 19}}\n"
     ]
    }
   ],
   "source": [
    "import os\n",
    "import requests\n",
    "\n",
    "api_key = os.environ.get('ANTHROPIC_API_KEY')\n",
    "headers = {\n",
    "    \"x-api-key\": api_key,\n",
    "    \"content-type\": \"application/json\",\n",
    "    \"anthropic-version\": \"2023-06-01\"\n",
    "}\n",
    "data = {\n",
    "    \"model\": \"claude-3-5-sonnet-20240620\",\n",
    "    \"max_tokens\": 1024,\n",
    "    \"messages\": [{\"role\": \"user\", \"content\": \"Hello, Claude\"}]\n",
    "}\n",
    "response = requests.post(\"https://api.anthropic.com/v1/messages\", headers=headers, json=data)\n",
    "print(response.status_code)\n",
    "print(response.json())\n",
    "\n",
    "\n"
   ]
  },
  {
   "cell_type": "code",
   "execution_count": null,
   "id": "c8c34b41-bb53-4f0f-ad7a-372c32476c9f",
   "metadata": {},
   "outputs": [],
   "source": []
  }
 ],
 "metadata": {
  "kernelspec": {
   "display_name": "Python 3 (ipykernel)",
   "language": "python",
   "name": "python3"
  },
  "language_info": {
   "codemirror_mode": {
    "name": "ipython",
    "version": 3
   },
   "file_extension": ".py",
   "mimetype": "text/x-python",
   "name": "python",
   "nbconvert_exporter": "python",
   "pygments_lexer": "ipython3",
   "version": "3.10.14"
  }
 },
 "nbformat": 4,
 "nbformat_minor": 5
}
