{
 "cells": [
  {
   "cell_type": "code",
   "execution_count": 1,
   "id": "b61865a0-5502-41d3-9f18-a98d7bceb620",
   "metadata": {},
   "outputs": [],
   "source": [
    "%load_ext autoreload\n",
    "%autoreload 2"
   ]
  },
  {
   "cell_type": "code",
   "execution_count": 2,
   "id": "1d00b875-fe20-40f4-abf8-dd468cbd0284",
   "metadata": {},
   "outputs": [],
   "source": [
    "import namegenie"
   ]
  },
  {
   "cell_type": "code",
   "execution_count": 3,
   "id": "0e6d0560-d963-45bb-b3d2-9b95ea620708",
   "metadata": {},
   "outputs": [
    {
     "data": {
      "text/html": [
       "\n",
       "    <div class=\"code-container\" style=\"position: relative; padding: 10px; background-color: #f0f0f0; border-radius: 5px;\">\n",
       "        <pre><code class=\"python\">MEEEEEDEED</code></pre>\n",
       "        <button class=\"copy-button\" style=\"position: absolute; top: 5px; right: 5px; padding: 5px 10px; background-color: #007bff; color: white; border: none; border-radius: 3px; cursor: pointer;\">\n",
       "            Copy to Clipboard\n",
       "        </button>\n",
       "    </div>\n",
       "    <script>\n",
       "    (function() {\n",
       "        var copyButton = document.currentScript.previousElementSibling.querySelector('.copy-button');\n",
       "        var codeElement = document.currentScript.previousElementSibling.querySelector('code');\n",
       "        \n",
       "        copyButton.addEventListener('click', function() {\n",
       "            var textArea = document.createElement('textarea');\n",
       "            textArea.value = codeElement.textContent;\n",
       "            document.body.appendChild(textArea);\n",
       "            textArea.select();\n",
       "            document.execCommand('copy');\n",
       "            document.body.removeChild(textArea);\n",
       "            \n",
       "            copyButton.textContent = 'Copied!';\n",
       "            setTimeout(function() {\n",
       "                copyButton.textContent = 'Copy to Clipboard';\n",
       "            }, 2000);\n",
       "        });\n",
       "    })();\n",
       "    </script>\n",
       "    "
      ],
      "text/plain": [
       "<IPython.core.display.HTML object>"
      ]
     },
     "metadata": {},
     "output_type": "display_data"
    }
   ],
   "source": [
    "display(namegenie.create_copyable_code_cell(\"MEEEEEDEED\"))"
   ]
  },
  {
   "cell_type": "code",
   "execution_count": 4,
   "id": "c0f94b2e-9914-4c07-ad3b-2337c1f3be54",
   "metadata": {},
   "outputs": [
    {
     "data": {
      "text/html": [
       "\n",
       "    <div id=\"copy-container\" style=\"position: relative; padding: 10px; background-color: #f0f0f0; border-radius: 5px;\">\n",
       "        <pre><code>This text will be automatically copied to the clipboard when the cell is executed.</code></pre>\n",
       "        <button id=\"copy-button\" style=\"position: absolute; top: 5px; right: 5px; padding: 5px 10px; background-color: #007bff; color: white; border: none; border-radius: 3px;\">\n",
       "            Copied to Clipboard\n",
       "        </button>\n",
       "    </div>\n",
       "    <script>\n",
       "    (function() {\n",
       "        var copyButton = document.getElementById('copy-button');\n",
       "        var text = \"This text will be automatically copied to the clipboard when the cell is executed.\";\n",
       "        \n",
       "        function copyToClipboard() {\n",
       "            navigator.clipboard.writeText(text).then(function() {\n",
       "                console.log('Text copied to clipboard');\n",
       "                copyButton.textContent = 'Copied to Clipboard';\n",
       "                copyButton.style.backgroundColor = '#28a745';\n",
       "            }).catch(function(err) {\n",
       "                console.error('Failed to copy text: ', err);\n",
       "                copyButton.textContent = 'Copy Failed';\n",
       "                copyButton.style.backgroundColor = '#dc3545';\n",
       "            });\n",
       "        }\n",
       "        \n",
       "        // Attempt to copy immediately\n",
       "        copyToClipboard();\n",
       "        \n",
       "        // Also allow manual copying if automatic copy fails\n",
       "        copyButton.addEventListener('click', copyToClipboard);\n",
       "    })();\n",
       "    </script>\n",
       "    "
      ],
      "text/plain": [
       "<IPython.core.display.HTML object>"
      ]
     },
     "metadata": {},
     "output_type": "display_data"
    }
   ],
   "source": [
    "example_text = \"This text will be automatically copied to the clipboard when the cell is executed.\"\n",
    "display(namegenie.create_auto_copy_cell(example_text))\n"
   ]
  },
  {
   "cell_type": "code",
   "execution_count": 5,
   "id": "1df098ff-9d84-4f49-ba47-6eef63f8355a",
   "metadata": {},
   "outputs": [
    {
     "data": {
      "text/markdown": [
       "## Valid words\n",
       "| Word | Word | Word | Word | Word | Word | Word | Word | Word | Word | Word | Word | Word |\n",
       "|-----|-----|-----|-----|-----|-----|-----|-----|-----|-----|-----|-----|-----|\n",
       "| knot | kiln | veil | vise | yarn | weave | weft | warp | wisp | wrinkle | wire | fiber | filament |\n",
       "| frill | fold | furrow | forge | furnace | flare | bobbin | batten | beater | buckle | bond | bar | beam |\n",
       "| brace | bolt | billet | gossamer | gauze | gusset | girder | gloss | glow | gleam | glint | hem | heddle |\n",
       "| hook | mesh | mold | loom | lace | link | luster | net | needle | nail | ruffle | ridge | reed |\n",
       "| rope | rod | rivet | rust | dart | ingot | ore | pleat (*2) | pucker | pin | patina | cocoon | coil |\n",
       "| crease | crimp | comb | clasp | chain | cord | cable | clamp | crucible | cast | trap | thread | tangle |\n",
       "| tuck | thimble | tie | twine | tack | anvil | strand | snare | spindle | skein | spool | seam | shears |\n",
       "| shuttle | string | strut | screw | spike | staple | slag | sheen | spark |  |  |  |  |\n",
       "## Reject words\n",
       "\n",
       "## Prompt echoback\n",
       "Come up with a list of english singluar nouns.  Valid words have at least 2 and at most 8 letters.  Try to provide 100 response words.  Words should playfully relate to all, most or some of: silk, iron, web, enmeshed."
      ],
      "text/plain": [
       "<IPython.core.display.Markdown object>"
      ]
     },
     "metadata": {},
     "output_type": "display_data"
    }
   ],
   "source": [
    "namegenie.name_help(temperature=0.1, themes=\"silk, iron, web, enmeshed\")"
   ]
  },
  {
   "cell_type": "code",
   "execution_count": 5,
   "id": "9b26aed8-7c7c-49b7-9221-387eb80eadf8",
   "metadata": {},
   "outputs": [
    {
     "data": {
      "text/markdown": [
       "## Valid words\n",
       "| Word | Word | Word | Word | Word | Word | Word | Word | Word | Word | Word | Word | Word |\n",
       "|-----|-----|-----|-----|-----|-----|-----|-----|-----|-----|-----|-----|-----|\n",
       "| visor | frost | flake | fudge | flail | flora | fauna | braid | blade | baton | basil | berry | biome |\n",
       "| bower | bloom | bough | birch | beech | guard | glaze | gorge | grove | glade | haven | mocha | melon |\n",
       "| maple | layer | level | lance | lemon | larch | niche | ridge | realm | rowan | icing | oasis | plate |\n",
       "| plank | peach | petal | pinon | crust (*2) | cover | cream | cocoa | cliff | crest | copse | clove | cedar |\n",
       "| thyme | trunk | apple | arbor | acorn | aspen | alder | shell | slice | scale | sheaf | sheet | sword |\n",
       "| spear | spice | shrub | stalk |  |  |  |  |  |  |  |  |  |\n",
       "## Reject words\n",
       "mace axe helm peak dune plum pear lime stem twig fir pine oak elm ash\n",
       "## Prompt echoback\n",
       "Come up with a list of english singluar nouns.  Valid words have at least 5 and at most 5 letters.  Try to provide 100 response words.  Words should playfully relate to all, most or some of: cake, tier, armor.  Words should relate to but not include: environment."
      ],
      "text/plain": [
       "<IPython.core.display.Markdown object>"
      ]
     },
     "metadata": {},
     "output_type": "display_data"
    }
   ],
   "source": [
    "namegenie.name_help(temperature=0.1, min_letters=5, max_letters=5, themes=\"cake, tier, armor\", precedents='environment')"
   ]
  },
  {
   "cell_type": "code",
   "execution_count": null,
   "id": "8f17884d-8097-4a30-8cd6-676477447efd",
   "metadata": {},
   "outputs": [],
   "source": []
  }
 ],
 "metadata": {
  "kernelspec": {
   "display_name": "Python 3 (ipykernel)",
   "language": "python",
   "name": "python3"
  },
  "language_info": {
   "codemirror_mode": {
    "name": "ipython",
    "version": 3
   },
   "file_extension": ".py",
   "mimetype": "text/x-python",
   "name": "python",
   "nbconvert_exporter": "python",
   "pygments_lexer": "ipython3",
   "version": "3.10.14"
  }
 },
 "nbformat": 4,
 "nbformat_minor": 5
}
