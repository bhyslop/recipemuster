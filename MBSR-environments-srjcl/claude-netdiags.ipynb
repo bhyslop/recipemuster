{
 "cells": [
  {
   "cell_type": "code",
   "execution_count": 5,
   "id": "b61865a0-5502-41d3-9f18-a98d7bceb620",
   "metadata": {},
   "outputs": [
    {
     "name": "stdout",
     "output_type": "stream",
     "text": [
      "The autoreload extension is already loaded. To reload it, use:\n",
      "  %reload_ext autoreload\n"
     ]
    }
   ],
   "source": [
    "%load_ext autoreload\n",
    "%autoreload 2"
   ]
  },
  {
   "cell_type": "code",
   "execution_count": 6,
   "id": "1d00b875-fe20-40f4-abf8-dd468cbd0284",
   "metadata": {},
   "outputs": [],
   "source": [
    "import netdiag"
   ]
  },
  {
   "cell_type": "code",
   "execution_count": 7,
   "id": "8f17884d-8097-4a30-8cd6-676477447efd",
   "metadata": {},
   "outputs": [
    {
     "name": "stdout",
     "output_type": "stream",
     "text": [
      "Running network diagnostics...\n",
      "\n",
      "DNS resolution successful. api.anthropic.com resolves to 160.79.104.10\n",
      "\n",
      "Python Ping:\n",
      "Error: [Errno 14] Bad address\n",
      "Error: [Errno 14] Bad address\n",
      "Error: [Errno 14] Bad address\n",
      "Error: [Errno 14] Bad address\n",
      "HTTP connection successful. Status code: 404\n",
      "Network interface information:\n",
      "Interface: lo\n",
      "  MAC Address: 00:00:00:00:00:00\n",
      "  IP Address: 127.0.0.1\n",
      "Interface: eth0\n",
      "  MAC Address: 6a:c3:8b:da:45:0d\n",
      "  IP Address: 10.250.0.3\n",
      "\n",
      "Environment variables:\n",
      "ANTHROPIC_API_KEY: sk-an...ETQAA\n",
      "HTTP_PROXY: Not set\n",
      "HTTPS_PROXY: Not set\n",
      "NO_PROXY: Not set\n",
      "\n",
      "\n",
      "Testing API performance:\n",
      "Request 1: 200, Time: 0.81s\n",
      "Request 2: 200, Time: 1.35s\n",
      "Request 3: 200, Time: 1.02s\n",
      "Request 4: 200, Time: 0.94s\n",
      "Request 5: 200, Time: 0.75s\n",
      "Request 6: 200, Time: 1.13s\n",
      "Request 7: 200, Time: 1.39s\n",
      "Request 8: 200, Time: 1.07s\n",
      "Request 9: 200, Time: 1.05s\n",
      "Request 10: 200, Time: 0.68s\n",
      "\n",
      "Average response time: 1.02s\n"
     ]
    }
   ],
   "source": [
    "netdiag.run_diagnostics()\n"
   ]
  },
  {
   "cell_type": "code",
   "execution_count": 8,
   "id": "8b1cfd9d-605a-4d20-adfc-dec80379194f",
   "metadata": {},
   "outputs": [
    {
     "name": "stdout",
     "output_type": "stream",
     "text": [
      "200\n",
      "{'id': 'msg_01PwzShvmot1hxN7e36xYkmM', 'type': 'message', 'role': 'assistant', 'model': 'claude-3-5-sonnet-20240620', 'content': [{'type': 'text', 'text': \"Hello! It's nice to meet you. How can I assist you today?\"}], 'stop_reason': 'end_turn', 'stop_sequence': None, 'usage': {'input_tokens': 10, 'output_tokens': 19}}\n"
     ]
    }
   ],
   "source": [
    "import os\n",
    "import requests\n",
    "\n",
    "api_key = os.environ.get('ANTHROPIC_API_KEY')\n",
    "headers = {\n",
    "    \"x-api-key\": api_key,\n",
    "    \"content-type\": \"application/json\",\n",
    "    \"anthropic-version\": \"2023-06-01\"\n",
    "}\n",
    "data = {\n",
    "    \"model\": \"claude-3-5-sonnet-20240620\",\n",
    "    \"max_tokens\": 1024,\n",
    "    \"messages\": [{\"role\": \"user\", \"content\": \"Hello, Claude\"}]\n",
    "}\n",
    "response = requests.post(\"https://api.anthropic.com/v1/messages\", headers=headers, json=data)\n",
    "print(response.status_code)\n",
    "print(response.json())\n",
    "\n",
    "\n"
   ]
  },
  {
   "cell_type": "code",
   "execution_count": null,
   "id": "c8c34b41-bb53-4f0f-ad7a-372c32476c9f",
   "metadata": {},
   "outputs": [],
   "source": []
  }
 ],
 "metadata": {
  "kernelspec": {
   "display_name": "Python 3 (ipykernel)",
   "language": "python",
   "name": "python3"
  },
  "language_info": {
   "codemirror_mode": {
    "name": "ipython",
    "version": 3
   },
   "file_extension": ".py",
   "mimetype": "text/x-python",
   "name": "python",
   "nbconvert_exporter": "python",
   "pygments_lexer": "ipython3",
   "version": "3.10.14"
  }
 },
 "nbformat": 4,
 "nbformat_minor": 5
}
